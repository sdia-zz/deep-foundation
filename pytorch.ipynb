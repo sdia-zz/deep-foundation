{
 "cells": [
  {
   "cell_type": "code",
   "execution_count": 12,
   "metadata": {},
   "outputs": [
    {
     "name": "stdout",
     "output_type": "stream",
     "text": [
      "(3, 4)\n",
      "(4, 10)\n"
     ]
    },
    {
     "data": {
      "text/plain": [
       "array([[0.99042801],\n",
       "       [0.97678151],\n",
       "       [0.0272362 ]])"
      ]
     },
     "execution_count": 12,
     "metadata": {},
     "output_type": "execute_result"
    }
   ],
   "source": [
    "# first using numpy\n",
    "import numpy as np\n",
    "X=np.array([[1,0,1,0],[1,0,1,1],[0,1,0,1]])\n",
    "Y=np.array([[1,1,0]]).T\n",
    "\n",
    "\n",
    "def nl(x, d=0):\n",
    "    if d:\n",
    "        return x*(1-x)\n",
    "    return 1/(1+np.exp(-x))\n",
    "\n",
    "epoch=5000\n",
    "lr=0.1\n",
    "inputlayer_neurons = X.shape[1]\n",
    "hiddenlayer_neurons = 10\n",
    "output_neurons = 1\n",
    "\n",
    "\n",
    "\n",
    "\n",
    "# weights and bias initialization\n",
    "wh = np.random.random((inputlayer_neurons, hiddenlayer_neurons))\n",
    "bh = np.random.random((1, hiddenlayer_neurons))\n",
    "wout = np.random.random((hiddenlayer_neurons, output_neurons))\n",
    "bout = np.random.random((1, output_neurons))\n",
    "\n",
    "\n",
    "print(X.shape)\n",
    "print(wh.shape)\n",
    "\n",
    "# training\n",
    "for i in range(epoch):\n",
    "    hidden = nl(np.dot(X, wh) + bh)\n",
    "    output = nl(np.dot(hidden, wout) + bout)\n",
    "    \n",
    "    #backprop\n",
    "    E = Y - output\n",
    "\n",
    "    slope_out = nl(output, d=1)\n",
    "    slope_hid = nl(hidden, d=1)\n",
    "    \n",
    "    d_out = E * slope_out\n",
    "    \n",
    "    E_hid = d_out.dot(wout.T)\n",
    "    d_hid = E_hid * slope_hid\n",
    "    \n",
    "    wout += hidden.T.dot(d_out) * lr\n",
    "    bout += np.sum(d_out, axis=0, keepdims=True) * lr\n",
    "    \n",
    "    wh += X.T.dot(d_hid) * lr\n",
    "    bh += np.sum(d_hid, axis=0, keepdims=True) * lr\n",
    "    \n",
    "output"
   ]
  },
  {
   "cell_type": "code",
   "execution_count": 13,
   "metadata": {},
   "outputs": [
    {
     "ename": "ModuleNotFoundError",
     "evalue": "No module named 'torch'",
     "output_type": "error",
     "traceback": [
      "\u001b[0;31m---------------------------------------------------------------------------\u001b[0m",
      "\u001b[0;31mModuleNotFoundError\u001b[0m                       Traceback (most recent call last)",
      "\u001b[0;32m<ipython-input-13-fe4776677570>\u001b[0m in \u001b[0;36m<module>\u001b[0;34m()\u001b[0m\n\u001b[0;32m----> 1\u001b[0;31m \u001b[0;32mimport\u001b[0m \u001b[0mtorch\u001b[0m\u001b[0;34m\u001b[0m\u001b[0m\n\u001b[0m\u001b[1;32m      2\u001b[0m \u001b[0;34m\u001b[0m\u001b[0m\n\u001b[1;32m      3\u001b[0m \u001b[0mX\u001b[0m \u001b[0;34m=\u001b[0m \u001b[0mtorch\u001b[0m\u001b[0;34m.\u001b[0m\u001b[0mTensor\u001b[0m\u001b[0;34m(\u001b[0m\u001b[0;34m[\u001b[0m\u001b[0;34m[\u001b[0m\u001b[0;36m1\u001b[0m\u001b[0;34m,\u001b[0m\u001b[0;36m0\u001b[0m\u001b[0;34m,\u001b[0m\u001b[0;36m1\u001b[0m\u001b[0;34m,\u001b[0m\u001b[0;36m0\u001b[0m\u001b[0;34m]\u001b[0m\u001b[0;34m,\u001b[0m\u001b[0;34m[\u001b[0m\u001b[0;36m0\u001b[0m\u001b[0;34m,\u001b[0m\u001b[0;36m1\u001b[0m\u001b[0;34m,\u001b[0m\u001b[0;36m0\u001b[0m\u001b[0;34m,\u001b[0m\u001b[0;36m1\u001b[0m\u001b[0;34m]\u001b[0m\u001b[0;34m,\u001b[0m\u001b[0;34m[\u001b[0m\u001b[0;36m0\u001b[0m\u001b[0;34m,\u001b[0m\u001b[0;36m1\u001b[0m\u001b[0;34m,\u001b[0m\u001b[0;36m0\u001b[0m\u001b[0;34m,\u001b[0m\u001b[0;36m1\u001b[0m\u001b[0;34m]\u001b[0m\u001b[0;34m]\u001b[0m\u001b[0;34m)\u001b[0m\u001b[0;34m\u001b[0m\u001b[0m\n\u001b[1;32m      4\u001b[0m \u001b[0mY\u001b[0m \u001b[0;34m=\u001b[0m \u001b[0mtorch\u001b[0m\u001b[0;34m.\u001b[0m\u001b[0mTensor\u001b[0m\u001b[0;34m(\u001b[0m\u001b[0;34m[\u001b[0m\u001b[0;34m[\u001b[0m\u001b[0;36m1\u001b[0m\u001b[0;34m,\u001b[0m\u001b[0;36m1\u001b[0m\u001b[0;34m,\u001b[0m\u001b[0;36m0\u001b[0m\u001b[0;34m]\u001b[0m\u001b[0;34m]\u001b[0m\u001b[0;34m)\u001b[0m\u001b[0;34m.\u001b[0m\u001b[0mT\u001b[0m\u001b[0;34m\u001b[0m\u001b[0m\n\u001b[1;32m      5\u001b[0m \u001b[0;34m\u001b[0m\u001b[0m\n",
      "\u001b[0;31mModuleNotFoundError\u001b[0m: No module named 'torch'"
     ]
    }
   ],
   "source": [
    "import torch\n",
    "\n",
    "X = torch.Tensor([[1,0,1,0],[0,1,0,1],[0,1,0,1]])\n",
    "Y = torch.Tensor([[1,1,0]]).T\n",
    "\n",
    "def nl(x, d=0):\n",
    "    if d: return x*(1-x)\n",
    "    return 1/(1+np.exp(-x))\n",
    "\n",
    "epoch=5000\n",
    "lr=0.1\n",
    "inputlayer_neurons = X.shape[1]\n",
    "hiddenlayer_neurons = 3\n",
    "output_neurons = 1\n",
    "\n",
    "\n",
    "# weights and bias initialization\n",
    "wh=torch.randn(inputlayer_neurons, hiddenlayer_neurons).type(torch.FloatTensor)\n",
    "bh=torch.randn(1, hiddenlayer_neurons).type(torch.FloatTensor)\n",
    "wout=torch.randn(hiddenlayer_neurons, output_neurons)\n",
    "bout=torch.randn(1, output_neurons)\n",
    "\n",
    "\n",
    "for i in range(epoch):\n",
    "    hidden = nl(torch.mm(X, wh) + bh)\n",
    "    output = nl(torch.mm(hidden, wout) + bout)\n",
    "    \n",
    "    # backprop\n",
    "    E = y-output\n",
    "    slope_out = nl(output, d=1)\n",
    "    slope_hid = nl(hidden, d=1)\n",
    "\n",
    "    d_out = E * slope_out\n",
    "    E_hid = torch.mm(d_out, wout.t())\n",
    "    d_hid = E_hid * slope_hid\n",
    "    \n",
    "    wout += torch.mm(hidden.t(), d_out) * lr\n",
    "    bout += d_out.sum() * lr\n",
    "    wh += torch.mm(X.t(), d_hid) * lr\n",
    "    bh += d_hid.sum() * lr\n",
    "    \n",
    "output    "
   ]
  },
  {
   "cell_type": "code",
   "execution_count": null,
   "metadata": {},
   "outputs": [],
   "source": []
  }
 ],
 "metadata": {
  "kernelspec": {
   "display_name": "Python 3",
   "language": "python",
   "name": "python3"
  },
  "language_info": {
   "codemirror_mode": {
    "name": "ipython",
    "version": 3
   },
   "file_extension": ".py",
   "mimetype": "text/x-python",
   "name": "python",
   "nbconvert_exporter": "python",
   "pygments_lexer": "ipython3",
   "version": "3.6.4"
  }
 },
 "nbformat": 4,
 "nbformat_minor": 2
}
